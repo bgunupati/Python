{
 "cells": [
  {
   "cell_type": "code",
   "execution_count": 4,
   "id": "01c3ccab",
   "metadata": {},
   "outputs": [
    {
     "name": "stdout",
     "output_type": "stream",
     "text": [
      "Kiwi\n"
     ]
    }
   ],
   "source": [
    "fruits = [\"Apple\",\"Bananna\",\"Pine Apple\",\"Green Apple\",\"Kiwi\"]\n",
    "print(fruits[-1])"
   ]
  },
  {
   "cell_type": "code",
   "execution_count": 5,
   "id": "2e18bde0",
   "metadata": {},
   "outputs": [
    {
     "name": "stdout",
     "output_type": "stream",
     "text": [
      "['Apple', 'Bananna', 'Pine Apple', 'Green Apple', 'Kiwi']\n",
      "['Apple', 'Watermelon', 'Pine Apple', 'Green Apple', 'Kiwi']\n"
     ]
    }
   ],
   "source": [
    "print(fruits);\n",
    "fruits[1] = \"Watermelon\"\n",
    "print(fruits);"
   ]
  },
  {
   "cell_type": "code",
   "execution_count": 6,
   "id": "1901643e",
   "metadata": {},
   "outputs": [
    {
     "name": "stdout",
     "output_type": "stream",
     "text": [
      "['Apple', 'Watermelon', 'Pine Apple', 'Green Apple', 'Kiwi', 'Orange']\n"
     ]
    }
   ],
   "source": [
    "fruits.append(\"Orange\");\n",
    "print(fruits);"
   ]
  }
 ],
 "metadata": {
  "kernelspec": {
   "display_name": "venv",
   "language": "python",
   "name": "python3"
  },
  "language_info": {
   "codemirror_mode": {
    "name": "ipython",
    "version": 3
   },
   "file_extension": ".py",
   "mimetype": "text/x-python",
   "name": "python",
   "nbconvert_exporter": "python",
   "pygments_lexer": "ipython3",
   "version": "3.12.11"
  }
 },
 "nbformat": 4,
 "nbformat_minor": 5
}
